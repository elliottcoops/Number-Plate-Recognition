{
 "cells": [
  {
   "cell_type": "code",
   "execution_count": 7,
   "metadata": {},
   "outputs": [],
   "source": [
    "from numberplate_extractor.number_plate_reader import NumberPlateReader\n",
    "from PIL import Image\n",
    "import matplotlib.pyplot as plt\n",
    "import os"
   ]
  },
  {
   "cell_type": "code",
   "execution_count": 8,
   "metadata": {},
   "outputs": [
    {
     "name": "stderr",
     "output_type": "stream",
     "text": [
      "/Users/elliottcooper/Desktop/Number-Plate-Recognition/venv/lib/python3.11/site-packages/transformers/models/yolos/feature_extraction_yolos.py:38: FutureWarning: The class YolosFeatureExtractor is deprecated and will be removed in version 5 of Transformers. Please use YolosImageProcessor instead.\n",
      "  warnings.warn(\n",
      "/Users/elliottcooper/Desktop/Number-Plate-Recognition/venv/lib/python3.11/site-packages/keras/src/layers/convolutional/base_conv.py:107: UserWarning: Do not pass an `input_shape`/`input_dim` argument to a layer. When using Sequential models, prefer using an `Input(shape)` object as the first layer in the model instead.\n",
      "  super().__init__(activity_regularizer=activity_regularizer, **kwargs)\n",
      "WARNING:absl:Compiled the loaded model, but the compiled metrics have yet to be built. `model.compile_metrics` will be empty until you train or evaluate the model.\n",
      "WARNING:absl:Error in loading the saved optimizer state. As a result, your model is starting with a freshly initialized optimizer.\n"
     ]
    },
    {
     "name": "stdout",
     "output_type": "stream",
     "text": [
      "../number_plate_code/model/my_model.h5\n"
     ]
    }
   ],
   "source": [
    "number_plate_reader = NumberPlateReader()"
   ]
  },
  {
   "cell_type": "markdown",
   "metadata": {},
   "source": [
    "## Load example data"
   ]
  },
  {
   "cell_type": "code",
   "execution_count": 9,
   "metadata": {},
   "outputs": [],
   "source": [
    "directory = 'example_data'\n",
    "files = os.listdir(directory)\n",
    "image_extensions = ('.png', '.jpg', '.jpeg', '.gif', '.bmp', '.tiff')\n",
    "image_files = [os.path.join(directory, file) for file in files if file.lower().endswith(image_extensions)]\n",
    "number_of_examples = len(image_files)"
   ]
  },
  {
   "cell_type": "markdown",
   "metadata": {},
   "source": [
    "## Read plate function\n",
    "\n",
    "This is how you can typically call the functions.\n",
    "\n",
    "Note that not passing True into `read_number_plate` will just return the plate reading"
   ]
  },
  {
   "cell_type": "code",
   "execution_count": 10,
   "metadata": {},
   "outputs": [],
   "source": [
    "def read_plate(image_path):\n",
    "    \"\"\"\n",
    "    Call module functions to read the plate\n",
    "    \n",
    "    Parameters:\n",
    "    image_path (str): Path to image with plate in\n",
    "    \"\"\"\n",
    "\n",
    "    image = Image.open(image_path)\n",
    "    number_plate = number_plate_reader.get_number_plate(image)\n",
    "    plate_reading, seg_number_plate, cntr_plate = number_plate_reader.read_number_plate(number_plate, True)\n",
    "    return image, number_plate, seg_number_plate, cntr_plate, plate_reading\n"
   ]
  },
  {
   "cell_type": "markdown",
   "metadata": {},
   "source": [
    "## Output process and reading from each example\n",
    "\n",
    "The purpose of this is to objectively see how accurate the recognition program is."
   ]
  },
  {
   "cell_type": "code",
   "execution_count": 11,
   "metadata": {},
   "outputs": [],
   "source": [
    "def display_process(image, title, axes, i, gray=False):\n",
    "    \"\"\"\n",
    "    Show an image on a given axes with title\n",
    "    \n",
    "    Parameters:\n",
    "    image (np.ndarray): Image to display\n",
    "    title (str): Title of the plot \n",
    "    axes (np.ndarray): Axes of all the plots\n",
    "    i (int): Index of the axes to plot onto\n",
    "    \"\"\"\n",
    "    \n",
    "    if gray:\n",
    "        axes[i].imshow(image, cmap='gray')\n",
    "    else:\n",
    "        axes[i].imshow(image)\n",
    "\n",
    "    axes[i].set_title(title)\n",
    "    axes[i].set_xticklabels([])\n",
    "    axes[i].set_yticklabels([])"
   ]
  },
  {
   "cell_type": "code",
   "execution_count": 12,
   "metadata": {},
   "outputs": [],
   "source": [
    "# For each example, display the process\n",
    "for path in image_files:\n",
    "    original, plate, seg_plate, cntr_plate, plate_reading = read_plate(path)\n",
    "    _, axes = plt.subplots(nrows=1, ncols=4, figsize=(12,8))\n",
    "\n",
    "    display_process(original, \"Original image\", axes, 0)\n",
    "    display_process(plate, \"Extracted plate\", axes, 1)\n",
    "    display_process(seg_plate, \"Segmented characters\", axes, 2, True)\n",
    "    display_process(cntr_plate, f\"Characters detected: {plate_reading}\", axes, 3)"
   ]
  },
  {
   "cell_type": "code",
   "execution_count": null,
   "metadata": {},
   "outputs": [],
   "source": []
  }
 ],
 "metadata": {
  "kernelspec": {
   "display_name": "venv",
   "language": "python",
   "name": "python3"
  },
  "language_info": {
   "codemirror_mode": {
    "name": "ipython",
    "version": 3
   },
   "file_extension": ".py",
   "mimetype": "text/x-python",
   "name": "python",
   "nbconvert_exporter": "python",
   "pygments_lexer": "ipython3",
   "version": "3.11.4"
  }
 },
 "nbformat": 4,
 "nbformat_minor": 2
}

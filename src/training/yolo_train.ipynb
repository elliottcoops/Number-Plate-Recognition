{
 "cells": [
  {
   "cell_type": "code",
   "execution_count": null,
   "metadata": {
    "trusted": true
   },
   "outputs": [],
   "source": [
    "pip install ultralytics"
   ]
  },
  {
   "cell_type": "code",
   "execution_count": null,
   "metadata": {
    "trusted": true
   },
   "outputs": [],
   "source": [
    "import os\n",
    "import pandas as pd\n",
    "import shutil\n",
    "from ultralytics import YOLO\n",
    "import requests\n",
    "import cv2\n",
    "import numpy as np\n",
    "import matplotlib.pyplot as plt"
   ]
  },
  {
   "cell_type": "code",
   "execution_count": null,
   "metadata": {
    "trusted": true
   },
   "outputs": [],
   "source": [
    "# convert function\n",
    "def convert_and_organize(split_name):\n",
    "    csv_path = f\"/kaggle/input/license-plate-recognition/{split_name}/{split_name}/_annotations.csv\"\n",
    "    img_src = f\"/kaggle/input/license-plate-recognition/{split_name}/{split_name}\"\n",
    "    img_dst = f\"/kaggle/working/dataset/images/{split_name}\"\n",
    "    label_dst = f\"/kaggle/working/dataset/labels/{split_name}\"\n",
    "\n",
    "    os.makedirs(img_dst, exist_ok=True)\n",
    "    os.makedirs(label_dst, exist_ok=True)\n",
    "\n",
    "    df = pd.read_csv(csv_path)\n",
    "\n",
    "    for _, row in df.iterrows():\n",
    "        filename = row['filename']\n",
    "        width = row['width']\n",
    "        height = row['height']\n",
    "        xmin = row['xmin']\n",
    "        ymin = row['ymin']\n",
    "        xmax = row['xmax']\n",
    "        ymax = row['ymax']\n",
    "\n",
    "        # Convert to YOLO format\n",
    "        x_center = ((xmin + xmax) / 2) / width\n",
    "        y_center = ((ymin + ymax) / 2) / height\n",
    "        box_width = (xmax - xmin) / width\n",
    "        box_height = (ymax - ymin) / height\n",
    "\n",
    "        yolo_line = f\"0 {x_center:.6f} {y_center:.6f} {box_width:.6f} {box_height:.6f}\\n\"\n",
    "\n",
    "        # Save label file\n",
    "        txt_file = os.path.splitext(filename)[0] + \".txt\"\n",
    "        with open(os.path.join(label_dst, txt_file), 'a') as f:\n",
    "            f.write(yolo_line)\n",
    "\n",
    "        # Copy image\n",
    "        src_img_path = os.path.join(img_src, filename)\n",
    "        dst_img_path = os.path.join(img_dst, filename)\n",
    "        if os.path.exists(src_img_path):\n",
    "            shutil.copy(src_img_path, dst_img_path)\n",
    "\n",
    "# Run for all splits\n",
    "for split in ['train', 'valid', 'test']:\n",
    "    convert_and_organize(split)"
   ]
  },
  {
   "cell_type": "code",
   "execution_count": null,
   "metadata": {
    "trusted": true
   },
   "outputs": [],
   "source": [
    "yaml_content = \"\"\"\n",
    "path: /kaggle/working/dataset\n",
    "train: images/train\n",
    "val: images/valid\n",
    "test: images/test\n",
    "\n",
    "names:\n",
    "  0: license_plate\n",
    "\"\"\"\n",
    "\n",
    "\n",
    "with open(\"/kaggle/working/dataset.yaml\", \"w\") as f:\n",
    "    f.write(yaml_content)"
   ]
  },
  {
   "cell_type": "code",
   "execution_count": null,
   "metadata": {
    "trusted": true
   },
   "outputs": [],
   "source": [
    "model = YOLO(\"yolov8n.pt\") "
   ]
  },
  {
   "cell_type": "code",
   "execution_count": null,
   "metadata": {
    "trusted": true
   },
   "outputs": [],
   "source": [
    "model.train(\n",
    "    data=\"/kaggle/working/dataset.yaml\",\n",
    "    epochs=30,\n",
    "    imgsz=640,\n",
    "    batch=32\n",
    ")"
   ]
  },
  {
   "cell_type": "code",
   "execution_count": null,
   "metadata": {
    "trusted": true
   },
   "outputs": [],
   "source": [
    "import shutil\n",
    "shutil.copy(\"runs/detect/train/weights/best.pt\", \"my_custom_model.pt\")"
   ]
  },
  {
   "cell_type": "code",
   "execution_count": null,
   "metadata": {
    "trusted": true
   },
   "outputs": [],
   "source": [
    "model_path = \"/kaggle/input/yolo/pytorch/default/1/my_custom_model.pt\"\n",
    "model = YOLO(model_path) \n",
    "\n",
    "from pathlib import Path\n",
    "\n",
    "test_img_dir = Path(\"/kaggle/working/dataset/images/test\")\n",
    "test_label_dir = Path(\"/kaggle/working/dataset/labels/test\")\n",
    "\n",
    "test_images = list(test_img_dir.glob(\"*.jpg\"))"
   ]
  },
  {
   "cell_type": "code",
   "execution_count": null,
   "metadata": {
    "trusted": true
   },
   "outputs": [],
   "source": [
    "import numpy as np\n",
    "\n",
    "def xywh2xyxy(x):\n",
    "    # x: [x_center, y_center, width, height] normalized (0-1)\n",
    "    y = np.copy(x)\n",
    "    y[0] = x[0] - x[2] / 2  # x_min\n",
    "    y[1] = x[1] - x[3] / 2  # y_min\n",
    "    y[2] = x[0] + x[2] / 2  # x_max\n",
    "    y[3] = x[1] + x[3] / 2  # y_max\n",
    "    return y\n",
    "\n",
    "def iou(boxA, boxB):\n",
    "    # box: [x_min, y_min, x_max, y_max], values in absolute pixels or normalized (consistent)\n",
    "    xA = max(boxA[0], boxB[0])\n",
    "    yA = max(boxA[1], boxB[1])\n",
    "    xB = min(boxA[2], boxB[2])\n",
    "    yB = min(boxA[3], boxB[3])\n",
    "\n",
    "    interArea = max(0, xB - xA) * max(0, yB - yA)\n",
    "    boxAArea = (boxA[2] - boxA[0]) * (boxA[3] - boxA[1])\n",
    "    boxBArea = (boxB[2] - boxB[0]) * (boxB[3] - boxB[1])\n",
    "\n",
    "    if boxAArea + boxBArea - interArea == 0:\n",
    "        return 0\n",
    "    return interArea / (boxAArea + boxBArea - interArea)\n"
   ]
  },
  {
   "cell_type": "code",
   "execution_count": null,
   "metadata": {
    "trusted": true
   },
   "outputs": [],
   "source": [
    "ious = []\n",
    "all_scores = []\n",
    "all_labels = []\n",
    "\n",
    "iou_threshold = 0.5\n",
    "\n",
    "for img_path in test_images:\n",
    "    results = model(str(img_path))\n",
    "    res = results[0]  # Get the Results object\n",
    "\n",
    "    # Extract predictions: boxes, scores, classes\n",
    "    pred_boxes = res.boxes.xyxy.cpu().numpy()  # absolute pixel coords [x1,y1,x2,y2]\n",
    "    pred_scores = res.boxes.conf.cpu().numpy()\n",
    "    pred_classes = res.boxes.cls.cpu().numpy()\n",
    "\n",
    "    # Load ground truth boxes and convert YOLO format (normalized) to absolute pixel xyxy\n",
    "    label_file = test_label_dir / (img_path.stem + \".txt\")\n",
    "    gt_boxes = []\n",
    "    if label_file.exists():\n",
    "        img = cv2.imread(str(img_path))\n",
    "        img_h, img_w = img.shape[:2]\n",
    "        with open(label_file) as f:\n",
    "            for line in f:\n",
    "                parts = line.strip().split()\n",
    "                # YOLO format: class, x_center, y_center, width, height (normalized)\n",
    "                _, x_c, y_c, w, h = map(float, parts)\n",
    "                # Convert to absolute pixel coordinates\n",
    "                x_c_abs = x_c * img_w\n",
    "                y_c_abs = y_c * img_h\n",
    "                w_abs = w * img_w\n",
    "                h_abs = h * img_h\n",
    "\n",
    "                x1 = x_c_abs - w_abs / 2\n",
    "                y1 = y_c_abs - h_abs / 2\n",
    "                x2 = x_c_abs + w_abs / 2\n",
    "                y2 = y_c_abs + h_abs / 2\n",
    "\n",
    "                gt_boxes.append([x1, y1, x2, y2])\n",
    "    gt_boxes = np.array(gt_boxes)\n",
    "\n",
    "    # For each predicted box, find IoU with GT boxes and assign TP/FP labels\n",
    "    for i, pred_box in enumerate(pred_boxes):\n",
    "        conf = pred_scores[i]\n",
    "        all_scores.append(conf)\n",
    "\n",
    "        if len(gt_boxes) == 0:\n",
    "            all_labels.append(0)  # No GT boxes → false positive\n",
    "            continue\n",
    "\n",
    "        ious_for_pred = [iou(pred_box, gt_box) for gt_box in gt_boxes]\n",
    "        max_iou = max(ious_for_pred) if ious_for_pred else 0\n",
    "        ious.append(max_iou)\n",
    "\n",
    "        if max_iou >= iou_threshold:\n",
    "            all_labels.append(1)  # True positive\n",
    "        else:\n",
    "            all_labels.append(0)  # False positive\n"
   ]
  },
  {
   "cell_type": "code",
   "execution_count": null,
   "metadata": {
    "trusted": true
   },
   "outputs": [],
   "source": [
    "print(type(results))\n",
    "print(results)\n"
   ]
  },
  {
   "cell_type": "code",
   "execution_count": null,
   "metadata": {
    "trusted": true
   },
   "outputs": [],
   "source": [
    "import matplotlib.pyplot as plt\n",
    "from sklearn.metrics import precision_recall_curve, average_precision_score\n",
    "import numpy as np\n",
    "\n",
    "# Convert lists to numpy arrays\n",
    "all_labels = np.array(all_labels)\n",
    "all_scores = np.array(all_scores)\n",
    "\n",
    "# Compute precision-recall curve\n",
    "precision, recall, thresholds = precision_recall_curve(all_labels, all_scores)\n",
    "ap = average_precision_score(all_labels, all_scores)\n",
    "\n",
    "# Plot\n",
    "plt.figure(figsize=(8,6))\n",
    "plt.plot(recall, precision, label=f'AP = {ap:.3f}')\n",
    "plt.xlabel('Recall')\n",
    "plt.ylabel('Precision')\n",
    "plt.title('Precision-Recall Curve')\n",
    "plt.legend()\n",
    "plt.grid(True)\n",
    "\n",
    "plt.savefig('/kaggle/working/precision_recall_curve.png')  # Save figure\n",
    "plt.show()\n"
   ]
  },
  {
   "cell_type": "code",
   "execution_count": null,
   "metadata": {
    "trusted": true
   },
   "outputs": [],
   "source": [
    "import matplotlib.pyplot as plt\n",
    "\n",
    "plt.figure(figsize=(8,6))\n",
    "plt.hist(ious, bins=30, range=(0,1), color='blue', alpha=0.7)\n",
    "plt.xlabel('IoU')\n",
    "plt.ylabel('Count')\n",
    "plt.title('IoU Distribution of Predicted Boxes vs Ground Truth')\n",
    "plt.grid(True)\n",
    "\n",
    "plt.savefig('/kaggle/working/iou_distribution.png')  # Save the figure\n",
    "plt.show()\n"
   ]
  },
  {
   "cell_type": "code",
   "execution_count": null,
   "metadata": {
    "trusted": true
   },
   "outputs": [],
   "source": [
    "import cv2\n",
    "import matplotlib.pyplot as plt\n",
    "import numpy as np\n",
    "import random\n",
    "\n",
    "# Randomly sample 4 images from the test set\n",
    "random_imgs = random.sample(test_images, 4)\n",
    "\n",
    "fig, axs = plt.subplots(1, 4, figsize=(20, 5))\n",
    "\n",
    "for i, img_path in enumerate(random_imgs):\n",
    "    img = cv2.imread(str(img_path))\n",
    "    img = cv2.cvtColor(img, cv2.COLOR_BGR2RGB)\n",
    "    \n",
    "    results = model(str(img_path))\n",
    "    res = results[0]\n",
    "\n",
    "    pred_boxes = res.boxes.xyxy.cpu().numpy()\n",
    "    pred_scores = res.boxes.conf.cpu().numpy()\n",
    "\n",
    "    label_file = test_label_dir / (img_path.stem + \".txt\")\n",
    "    gt_boxes = []\n",
    "    img_h, img_w = img.shape[:2]\n",
    "\n",
    "    if label_file.exists():\n",
    "        with open(label_file) as f:\n",
    "            for line in f:\n",
    "                parts = line.strip().split()\n",
    "                _, x_c, y_c, w, h = map(float, parts)\n",
    "                x_c_abs = x_c * img_w\n",
    "                y_c_abs = y_c * img_h\n",
    "                w_abs = w * img_w\n",
    "                h_abs = h * img_h\n",
    "                x1 = int(x_c_abs - w_abs / 2)\n",
    "                y1 = int(y_c_abs - h_abs / 2)\n",
    "                x2 = int(x_c_abs + w_abs / 2)\n",
    "                y2 = int(y_c_abs + h_abs / 2)\n",
    "                gt_boxes.append([x1, y1, x2, y2])\n",
    "\n",
    "    for (x1, y1, x2, y2) in gt_boxes:\n",
    "        cv2.rectangle(img, (x1, y1), (x2, y2), (0, 255, 0), 2)\n",
    "\n",
    "    for j, (x1, y1, x2, y2) in enumerate(pred_boxes.astype(int)):\n",
    "        conf = pred_scores[j]\n",
    "        cv2.rectangle(img, (x1, y1), (x2, y2), (255, 0, 0), 2)\n",
    "        cv2.putText(img, f'{conf:.2f}', (x1, y1 - 10),\n",
    "                    cv2.FONT_HERSHEY_SIMPLEX, 0.6, (255, 0, 0), 2)\n",
    "\n",
    "    axs[i].imshow(img)\n",
    "    axs[i].set_title(f'Test Image {i+1}')\n",
    "    axs[i].axis('off')\n",
    "\n",
    "plt.tight_layout()\n",
    "plt.savefig('comparison.png')\n",
    "plt.close()\n"
   ]
  },
  {
   "cell_type": "code",
   "execution_count": null,
   "metadata": {
    "trusted": true
   },
   "outputs": [],
   "source": []
  }
 ],
 "metadata": {
  "kaggle": {
   "accelerator": "gpu",
   "dataSources": [
    {
     "datasetId": 7585961,
     "sourceId": 12053686,
     "sourceType": "datasetVersion"
    },
    {
     "isSourceIdPinned": true,
     "modelId": 425559,
     "modelInstanceId": 407687,
     "sourceId": 516794,
     "sourceType": "modelInstanceVersion"
    }
   ],
   "dockerImageVersionId": 31089,
   "isGpuEnabled": true,
   "isInternetEnabled": true,
   "language": "python",
   "sourceType": "notebook"
  },
  "kernelspec": {
   "display_name": "venv",
   "language": "python",
   "name": "python3"
  },
  "language_info": {
   "codemirror_mode": {
    "name": "ipython",
    "version": 3
   },
   "file_extension": ".py",
   "mimetype": "text/x-python",
   "name": "python",
   "nbconvert_exporter": "python",
   "pygments_lexer": "ipython3",
   "version": "3.12.8"
  }
 },
 "nbformat": 4,
 "nbformat_minor": 4
}
